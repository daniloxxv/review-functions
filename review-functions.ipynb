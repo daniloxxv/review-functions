{
 "cells": [
  {
   "cell_type": "markdown",
   "metadata": {},
   "source": [
    "# Functions\n",
    "\n",
    "In this session we'll do a quick recap of how functions work in Python. We'll also take a deeper dive into recursion, which can serve as an alternative to iteration when we want the same block of code to be executed multiple times.\n",
    "\n",
    "## What is a function anyway?\n",
    "\n",
    "A function, in essence, is a block of code which is only executed when it is called. Using functions for tasks that will be repeated more than once in our application can allow us to write cleaner, shorter code."
   ]
  },
  {
   "cell_type": "code",
   "execution_count": null,
   "metadata": {},
   "outputs": [],
   "source": [
    "def break_time():\n",
    "    print('Es hora de tomar café, amiguitos. Ahorita regresamos')\n",
    "    \n",
    "break_time()"
   ]
  },
  {
   "cell_type": "markdown",
   "metadata": {},
   "source": [
    "We can call a function as many times as we want now instead of having to write the print statement every time we want to use it. A function call can be placed inside a `for` loop, for example."
   ]
  },
  {
   "cell_type": "code",
   "execution_count": null,
   "metadata": {
    "scrolled": true
   },
   "outputs": [],
   "source": [
    "for i in range(5):\n",
    "    break_time()"
   ]
  },
  {
   "cell_type": "markdown",
   "metadata": {},
   "source": [
    "## The `return` keyword\n",
    "\n",
    "A function may or may not contain the `return` keyword. When it is used, the function call will receive a value which can be passed on to other functions or used in another block of code. Let's look at a couple of examples to make things clearer:"
   ]
  },
  {
   "cell_type": "code",
   "execution_count": null,
   "metadata": {},
   "outputs": [],
   "source": [
    "def double(num):\n",
    "    return num * 2\n",
    "\n",
    "a = double(2)\n",
    "\n",
    "print(a)\n",
    "\n",
    "b = double(a)\n",
    "\n",
    "print(b)"
   ]
  },
  {
   "cell_type": "markdown",
   "metadata": {},
   "source": [
    "If a function does not contain the `return` keyword, its return value is `None` by default."
   ]
  },
  {
   "cell_type": "code",
   "execution_count": null,
   "metadata": {},
   "outputs": [],
   "source": [
    "a = break_time()\n",
    "print(a)"
   ]
  },
  {
   "cell_type": "markdown",
   "metadata": {},
   "source": [
    "## Positional arguments"
   ]
  },
  {
   "cell_type": "markdown",
   "metadata": {},
   "source": [
    "A function can receive any number of arguments, which can be used inside the block of code just like any other variable. The value of the argument depends on the parameter which is passed when the function is called. "
   ]
  },
  {
   "cell_type": "code",
   "execution_count": null,
   "metadata": {},
   "outputs": [],
   "source": [
    "def greeting(name,country):\n",
    "    print(f'My name is {name} and I am from {country}.')\n",
    "\n",
    "greeting('Danilo','Brazil')\n",
    "greeting('Rodolfo','Argentina')\n",
    "greeting('Luis','Colombia')\n"
   ]
  },
  {
   "cell_type": "markdown",
   "metadata": {},
   "source": [
    "A you can see, the `name` and `country` arguments had different values every time the function was called. These are called positional arguments because the order of the arguments matters, as you can see in the example below."
   ]
  },
  {
   "cell_type": "code",
   "execution_count": null,
   "metadata": {},
   "outputs": [],
   "source": [
    "greeting('Brazil','Danilo')\n"
   ]
  },
  {
   "cell_type": "markdown",
   "metadata": {},
   "source": [
    "Passing different parameters to our functions will allow our code to be a lot shorter and more efficient, following the famous DRY principle: Don't Repeat Yourself.\n",
    "\n",
    "The following function, for example, will print the entire lyrics of the `Baby Shark` song. Can you notice how parameters were used to avoid repeating code?"
   ]
  },
  {
   "cell_type": "code",
   "execution_count": null,
   "metadata": {},
   "outputs": [],
   "source": [
    "l = ['Baby shark','Mommy shark','Daddy shark','Grandma shark','Grandpa shark', 'Let\\'s go hunt']\n",
    "\n",
    "def bs(shark):\n",
    "    print(f'{shark},{\" doo\"*6}\\n'*3 + f'{shark}!\\n')\n",
    "          \n",
    "for shark in l:\n",
    "    bs(shark)\n"
   ]
  },
  {
   "cell_type": "markdown",
   "metadata": {},
   "source": [
    "If you call a function with more or less positional arguments than it requires, Python will throw an error. Let's use our `greeting` function as an example."
   ]
  },
  {
   "cell_type": "code",
   "execution_count": null,
   "metadata": {
    "scrolled": true
   },
   "outputs": [],
   "source": [
    "greeting('Danilo')"
   ]
  },
  {
   "cell_type": "code",
   "execution_count": null,
   "metadata": {
    "scrolled": true
   },
   "outputs": [],
   "source": [
    "greeting('Danilo','Brazil','México')"
   ]
  },
  {
   "cell_type": "markdown",
   "metadata": {},
   "source": [
    "One way of making our functions more versatile is by using the `*` **when defining our function**. This will allow it to take any number of positional arguments."
   ]
  },
  {
   "cell_type": "code",
   "execution_count": null,
   "metadata": {},
   "outputs": [],
   "source": [
    "def multiply(*args):\n",
    "    res = 1\n",
    "    for el in args:\n",
    "        res *= el\n",
    "    return res"
   ]
  },
  {
   "cell_type": "markdown",
   "metadata": {},
   "source": [
    "If you print the content of `args`, you'll find a tuple with all the arguments passed to the function."
   ]
  },
  {
   "cell_type": "code",
   "execution_count": null,
   "metadata": {},
   "outputs": [],
   "source": [
    "def print_args(*args):\n",
    "    print(args)\n",
    "\n",
    "print_args(1,2,3,4,5,6,7,8,9,10)"
   ]
  },
  {
   "cell_type": "markdown",
   "metadata": {},
   "source": [
    "On a side note, if we use the `*` operator **when calling a function**, it will unpack an iterable and pass its elements as arguments to the function."
   ]
  },
  {
   "cell_type": "code",
   "execution_count": null,
   "metadata": {},
   "outputs": [],
   "source": [
    "l = ['Danilo','Brazil']\n",
    "greeting(*l)"
   ]
  },
  {
   "cell_type": "markdown",
   "metadata": {},
   "source": [
    "Let's see another example with our `multiply` function:"
   ]
  },
  {
   "cell_type": "code",
   "execution_count": null,
   "metadata": {
    "scrolled": true
   },
   "outputs": [],
   "source": [
    "nums = [1,2,3,4,5]\n",
    "multiply(*nums)"
   ]
  },
  {
   "cell_type": "markdown",
   "metadata": {},
   "source": [
    "## Keyword arguments\n",
    "\n",
    "Another way to pass parameters to our function is by using keyword arguments. Let's get back to our `greeting` example. We know that `greeting('Brazil','Danilo')` won't work, but we can achieve the result we want by calling the function like this: "
   ]
  },
  {
   "cell_type": "code",
   "execution_count": null,
   "metadata": {},
   "outputs": [],
   "source": [
    "greeting(country='Brazil',name='Danilo')"
   ]
  },
  {
   "cell_type": "markdown",
   "metadata": {},
   "source": [
    "Positional arguments should always come before keyword arguments when calling a function; otherwise, Python will get angry. This is not allowed:"
   ]
  },
  {
   "cell_type": "code",
   "execution_count": null,
   "metadata": {
    "scrolled": true
   },
   "outputs": [],
   "source": [
    "greeting(name='Danilo','Brazil')"
   ]
  },
  {
   "cell_type": "markdown",
   "metadata": {},
   "source": [
    "This, however, is fine:"
   ]
  },
  {
   "cell_type": "code",
   "execution_count": null,
   "metadata": {},
   "outputs": [],
   "source": [
    "greeting('Danilo',country='Brazil')"
   ]
  },
  {
   "cell_type": "markdown",
   "metadata": {},
   "source": [
    "You can allow your function to accept multiple keyword arguments by using the `**` operator **when defining the function.**"
   ]
  },
  {
   "cell_type": "code",
   "execution_count": null,
   "metadata": {},
   "outputs": [],
   "source": [
    "def classroom_status(**kwargs):\n",
    "    for el in kwargs:\n",
    "        print(f'{kwargs[el]} is the {el}')\n",
    "\n",
    "classroom_status(TA='Danilo',student='Luis',manager='Anahí')"
   ]
  },
  {
   "cell_type": "markdown",
   "metadata": {},
   "source": [
    "As you might have guessed by the syntax, the `**` operator creates a dictionary with all keyword arguments."
   ]
  },
  {
   "cell_type": "code",
   "execution_count": null,
   "metadata": {},
   "outputs": [],
   "source": [
    "def print_kwargs(**kwargs):\n",
    "    print(kwargs)\n",
    "    \n",
    "print_kwargs(TA='Danilo',student='Luis',manager='Anahí')"
   ]
  },
  {
   "cell_type": "markdown",
   "metadata": {},
   "source": [
    "And, as some of you probably guessed too, if you use the `**` operator **when calling a function**, you can unpack all values of a dictionary and pass them into the function as keyword arguments."
   ]
  },
  {
   "cell_type": "code",
   "execution_count": null,
   "metadata": {},
   "outputs": [],
   "source": [
    "info = {'country': 'Brazil','name':'Danilo'}\n",
    "greeting(**info)"
   ]
  },
  {
   "cell_type": "markdown",
   "metadata": {},
   "source": [
    "You can use `*` and `**` at the same time when declaring a function. That will allow your function to accept all positional and keyword arguments."
   ]
  },
  {
   "cell_type": "code",
   "execution_count": null,
   "metadata": {},
   "outputs": [],
   "source": [
    "def anything(*args,**kwargs):\n",
    "    print(args)\n",
    "    print(kwargs)\n",
    "\n",
    "anything(1,2,3,greeting='hola',address='Tonalá, 10')"
   ]
  },
  {
   "cell_type": "markdown",
   "metadata": {},
   "source": [
    "## Default arguments\n",
    "\n",
    "Another way of making your functions more robust is by defining default arguments. This is done at the moment when the function is declared for the first time. We could try doing that with our `greeting` function."
   ]
  },
  {
   "cell_type": "code",
   "execution_count": null,
   "metadata": {},
   "outputs": [],
   "source": [
    "def greeting(name='no one',country='nowhere'):\n",
    "    return f'I am {name} and I am from {country}.'\n",
    "\n",
    "greeting()"
   ]
  },
  {
   "cell_type": "markdown",
   "metadata": {},
   "source": [
    "As you can see, we called the function without any arguments, but no error was thrown. Instead, the default arguments were used. But if we call it with one positional argument..."
   ]
  },
  {
   "cell_type": "code",
   "execution_count": null,
   "metadata": {},
   "outputs": [],
   "source": [
    "greeting('Danilo')"
   ]
  },
  {
   "cell_type": "markdown",
   "metadata": {},
   "source": [
    "By default, the argument we passed replaced the first default value, while the second default value was maintained. We could change that behavior by using a keyword argument:"
   ]
  },
  {
   "cell_type": "code",
   "execution_count": null,
   "metadata": {},
   "outputs": [],
   "source": [
    "greeting(country='Russia')"
   ]
  },
  {
   "cell_type": "markdown",
   "metadata": {},
   "source": [
    "And, if we pass all required arguments to our functions, the default arguments will be ignore."
   ]
  },
  {
   "cell_type": "code",
   "execution_count": null,
   "metadata": {},
   "outputs": [],
   "source": [
    "greeting('Santa Claus','the North Pole')"
   ]
  },
  {
   "cell_type": "markdown",
   "metadata": {},
   "source": [
    "## Pure functions"
   ]
  },
  {
   "cell_type": "markdown",
   "metadata": {},
   "source": [
    "A pure function is a function which has no side effects. It receives an argument and returns a result without mutating any values external to the function itself. This means that every time you call the function with the same arguments, you'll get the same results. \n",
    "\n",
    "Let's look at blocks of code that return the sum of the elements in a list -- one using a pure function, and the other using an impure function."
   ]
  },
  {
   "cell_type": "code",
   "execution_count": null,
   "metadata": {},
   "outputs": [],
   "source": [
    "#block 1\n",
    "res = 0\n",
    "def impure_sum(l):\n",
    "    global res\n",
    "    for el in l:\n",
    "        res += el\n",
    "    return res\n",
    "\n",
    "#block 2\n",
    "\n",
    "def pure_sum(l):\n",
    "    res_2 = 0\n",
    "    for el in l:\n",
    "        res_2 += el\n",
    "    return res_2\n",
    "\n",
    "nums = [1,2,3,4,5,6,7,8,9,10]\n",
    "\n",
    "print(impure_sum(nums))\n",
    "print(pure_sum(nums))"
   ]
  },
  {
   "cell_type": "markdown",
   "metadata": {},
   "source": [
    "It seems that both functions do the same -- after all, they return the same result. But let's try calling both of them again:"
   ]
  },
  {
   "cell_type": "code",
   "execution_count": null,
   "metadata": {},
   "outputs": [],
   "source": [
    "print(impure_sum(nums))\n",
    "print(pure_sum(nums))"
   ]
  },
  {
   "cell_type": "markdown",
   "metadata": {},
   "source": [
    "That didn't go as expected, did it? That's because `impure_sum` is not a pure function. It mutates an external variable every time it is called, which means we might get different results even when we call it with the same arguments.\n",
    "\n",
    "Another very common issue with impure functions is mutating the input. Let's look at this example. Suppose we want our function to receive a list and remove all names that start with 'A'. We could try doing it like this:"
   ]
  },
  {
   "cell_type": "code",
   "execution_count": null,
   "metadata": {
    "scrolled": true
   },
   "outputs": [],
   "source": [
    "names = ['Jose','Antonio','Carlos','Roberto','Alfredo','Ofelio','Alberto']\n",
    "def no_a(l):\n",
    "    for el in l:\n",
    "        if el.startswith('A'):\n",
    "            l.remove(el)\n",
    "    return l\n",
    "no_a(names)"
   ]
  },
  {
   "cell_type": "markdown",
   "metadata": {},
   "source": [
    "Looks okay at first glance... but let's print our `names` list:"
   ]
  },
  {
   "cell_type": "code",
   "execution_count": null,
   "metadata": {},
   "outputs": [],
   "source": [
    "print(names)"
   ]
  },
  {
   "cell_type": "markdown",
   "metadata": {},
   "source": [
    "The names starting with 'A' were removed from the original list, too. That's less than ideal, of course. Imagine you're using your function to filter information from a dataset that is used by other people in a collaborative project. Would you really want to permanently remove values from the dataset just because you happened to be interested in another part of the dataset at that particular moment?\n",
    "\n",
    "In cases like these, the best practice is to create a copy of the input and returning the new list with changes instead of modifying the original one. We can do it by using the `copy` method."
   ]
  },
  {
   "cell_type": "code",
   "execution_count": null,
   "metadata": {},
   "outputs": [],
   "source": [
    "names = ['Jose','Antonio','Carlos','Roberto','Alfredo','Ofelio','Alberto']\n",
    "def no_a(l):\n",
    "    new_list = l.copy()\n",
    "    for el in new_list:\n",
    "        if el.startswith('A'):\n",
    "            new_list.remove(el)\n",
    "    return new_list\n",
    "print(no_a(names))\n",
    "print(names)"
   ]
  },
  {
   "cell_type": "markdown",
   "metadata": {},
   "source": [
    "You can also take a slice that is as big as the list itself:"
   ]
  },
  {
   "cell_type": "code",
   "execution_count": null,
   "metadata": {},
   "outputs": [],
   "source": [
    "names = ['Jose','Antonio','Carlos','Roberto','Alfredo','Ofelio','Alberto']\n",
    "def no_a(l):\n",
    "    new_list = l[::]\n",
    "    for el in new_list:\n",
    "        if el.startswith('A'):\n",
    "            new_list.remove(el)\n",
    "    return new_list\n",
    "print(no_a(names))\n",
    "print(names)"
   ]
  },
  {
   "cell_type": "markdown",
   "metadata": {},
   "source": [
    "Be careful, though: simply assigning the list to a new variable would not be enough to avoid input mutation. You would have to make a copy of the list by using one of the above methods."
   ]
  },
  {
   "cell_type": "code",
   "execution_count": null,
   "metadata": {},
   "outputs": [],
   "source": [
    "names = ['Jose','Antonio','Carlos','Roberto','Alfredo','Ofelio','Alberto']\n",
    "def no_a(l):\n",
    "    new_list = l\n",
    "    for el in new_list:\n",
    "        if el.startswith('A'):\n",
    "            new_list.remove(el)\n",
    "    return new_list\n",
    "print(no_a(names))\n",
    "print(names)"
   ]
  },
  {
   "cell_type": "markdown",
   "metadata": {},
   "source": [
    "Another option would be to use a method like `filter`, which returns a new list by default and does not make any changes to the input."
   ]
  },
  {
   "cell_type": "code",
   "execution_count": null,
   "metadata": {},
   "outputs": [],
   "source": [
    "names = ['Jose','Antonio','Carlos','Roberto','Alfredo','Ofelio','Alberto']\n",
    "print(list(filter(lambda x: not x.startswith('A'),names)))\n",
    "print(names)"
   ]
  },
  {
   "cell_type": "markdown",
   "metadata": {},
   "source": [
    "This is one of the reasons why methods like `map`, `filter` and `reduce` are so popular in functional programming: they do not mutate the input and ensure that calling the same function with the same arguments will always bring you the same results. In general, it's a good practice to keep your functions pure and avoid side effects unless you have a very good reason to do otherwise.  "
   ]
  },
  {
   "cell_type": "markdown",
   "metadata": {},
   "source": [
    "### Recap:\n",
    "\n",
    "- Functions can be used to execute a block of code every time they are called\n",
    "- A function can have a return value. If there's no `return` keyword, the default is `None`\n",
    "- A function can receive different arguments each time it is called\n",
    "- There are two types of arguments: positional and keyword\n",
    "- Arguments can have default values\n",
    "- You can use `*` and `**` when declaring a function to allow it function to receive multiple positional and keyword arguments, respectively.\n",
    "- You can use `*` and `**` when calling a function to unpack values of a list or dictionary (respectively) and pass them onto your function\n",
    "- There are pure and impure functions. Impure functions have side effects\n",
    "- In general, it's good practice to keep your functions pure and small"
   ]
  },
  {
   "cell_type": "markdown",
   "metadata": {},
   "source": [
    "# Recursion\n",
    "\n",
    "As we saw before, a function is a block of code which is executed when it is called. Recursion is what happens when a function calls itself. A primitive example would be this one:"
   ]
  },
  {
   "cell_type": "code",
   "execution_count": null,
   "metadata": {},
   "outputs": [],
   "source": [
    "def dont_run_me():\n",
    "    print('Noooo')\n",
    "    dont_run_me()\n",
    "\n",
    "dont_run_me()    "
   ]
  },
  {
   "cell_type": "markdown",
   "metadata": {},
   "source": [
    "That was unpleasant, wasn't it? Our function kept calling itself, behaving in a way that was quite similar to an infinite loop. The only thing stopping it from crashing Jupyter was the aptly-named `RecursionError`, which occurs when a function calls itself too many times. \n",
    "\n",
    "How many is too many? You can check by using the `getrecursionlimit` method in the `sys` module.\n"
   ]
  },
  {
   "cell_type": "code",
   "execution_count": null,
   "metadata": {},
   "outputs": [],
   "source": [
    "import sys\n",
    "sys.getrecursionlimit()"
   ]
  },
  {
   "cell_type": "markdown",
   "metadata": {},
   "source": [
    "You can also use `sys.setrecursionlimit(n)` to change the recursion limit. For now, I would advise you to avoid that unless you really know what you are doing. \n",
    "\n",
    "After this first example, you might be thinking recursion is absolutely useless. Why would we want a function to call itself indefinitely? We wouldn't. This brings us to the fundamental principle of recursion: the base case.\n",
    "\n",
    "## The base case\n",
    "\n",
    "The base case of a recursive function is the condition under which the function will **not** call itself. For a recursive function to be useful, each execution should bring us closer to the base case. Let's look at a simple example:"
   ]
  },
  {
   "cell_type": "code",
   "execution_count": null,
   "metadata": {},
   "outputs": [],
   "source": [
    "def countdown(n):\n",
    "    if n == 0:\n",
    "        print('Lift off!')\n",
    "    else:\n",
    "        print(str(n)+'...\\n')\n",
    "        countdown(n-1)\n",
    "countdown(10)  "
   ]
  },
  {
   "cell_type": "markdown",
   "metadata": {},
   "source": [
    "It worked, didn't it? Each execution brought `n` closer to zero, which was the base case. When the base case was reached, the function didn't call itself again and its execution was concluded successfully.\n",
    "\n",
    "This is the same principle used in a recursive factorial function. "
   ]
  },
  {
   "cell_type": "code",
   "execution_count": null,
   "metadata": {},
   "outputs": [],
   "source": [
    "def factorial(n):\n",
    "    if n == 0:\n",
    "        return 1\n",
    "    else:\n",
    "        return n * factorial(n-1)\n",
    "    \n",
    "factorial(5)  "
   ]
  },
  {
   "cell_type": "markdown",
   "metadata": {},
   "source": [
    "We could play with the syntax a little bit so that the entire function takes just one line. "
   ]
  },
  {
   "cell_type": "code",
   "execution_count": null,
   "metadata": {},
   "outputs": [],
   "source": [
    "def factorial(n):\n",
    "    return 1 if n == 0 else n * factorial(n-1)\n",
    "\n",
    "factorial(5)  "
   ]
  },
  {
   "cell_type": "markdown",
   "metadata": {},
   "source": [
    "Since today we are more worried about comprehension than brevity, however, let's add a couple of variables and print statements to understand what is going on behind the scenes in our recursive factorial function. "
   ]
  },
  {
   "cell_type": "code",
   "execution_count": null,
   "metadata": {},
   "outputs": [],
   "source": [
    "def factorial(n):\n",
    "    print(f'We are calling the function with {n}')\n",
    "    if n == 0:\n",
    "        print(f'We return the result for {n}')\n",
    "        return 1\n",
    "    else:\n",
    "        res = factorial(n-1)\n",
    "        print(f'Now that we know that the factorial of {n-1} is {res}, we can return {n} times {res} = {n*res}')\n",
    "        return n*res\n",
    "factorial(5)    "
   ]
  },
  {
   "cell_type": "markdown",
   "metadata": {},
   "source": [
    "Now things are a lot clearer. The function kept calling itself until we reached the base case. The return value of the base case was then used to get the value of the next case, until we could resolve our first function call.\n",
    "\n",
    "The key to using recursion successfully is making sure that the base case will always be reached eventually -- otherwise we won't be able to avoid reaching the recursion limit. If we look at our `factorial` and `countdown` functions, for example, they have a design flaw. What would happen if we called `factorial(-1)`, for example? How could we prevent that from happening?"
   ]
  },
  {
   "cell_type": "markdown",
   "metadata": {},
   "source": [
    "### An advanced use case: searching nested lists\n",
    "\n",
    "There might be situations in which we don't know how many times a block of code will need to be executed. Nested loops can take care of that, but they can be clumsy to write. That's when recursion could come in handy. \n",
    "\n",
    "Let's say, for example, that we want to find a number in a nested list. We don't know how many dimensions the list has... and we are living in a planet where we can't use Numpy to flatten the list. We could use a loop..."
   ]
  },
  {
   "cell_type": "code",
   "execution_count": null,
   "metadata": {},
   "outputs": [],
   "source": [
    "nums = [1,2,3,4,[42],5,6]\n",
    "\n",
    "def find_num(l,n):\n",
    "    for el in l:\n",
    "        if el == n:\n",
    "            print('Found it!')\n",
    "        if isinstance(el,list):\n",
    "            for e in el:\n",
    "                if e == n:\n",
    "                    print('Found it!')\n",
    "                \n",
    "find_num(nums,42)"
   ]
  },
  {
   "cell_type": "markdown",
   "metadata": {},
   "source": [
    "But the more nested the list is, the more loops we would have to write."
   ]
  },
  {
   "cell_type": "code",
   "execution_count": null,
   "metadata": {},
   "outputs": [],
   "source": [
    "nums = [1,2,3,4,[1,2,3,4,[42]],5,6]\n",
    "def find_num(l,n):\n",
    "    for el in l:\n",
    "        if el == n:\n",
    "            print('Found it!')\n",
    "        if isinstance(el,list):\n",
    "            for e in el:\n",
    "                if e == n:\n",
    "                    print('Found it!')\n",
    "                if isinstance(e,list):\n",
    "                    for x in e:\n",
    "                        if x == n:\n",
    "                            print('Found it!')\n",
    "\n",
    "\n",
    "find_num(nums,42)"
   ]
  },
  {
   "cell_type": "markdown",
   "metadata": {},
   "source": [
    "As you can imagine, this could quickly get out of hand. Recursion allows us to do better."
   ]
  },
  {
   "cell_type": "code",
   "execution_count": null,
   "metadata": {},
   "outputs": [],
   "source": [
    "def rec_search(l,n):\n",
    "    for el in l:\n",
    "        if isinstance(el,list):\n",
    "            rec_search(el,n)\n",
    "        else:\n",
    "            if el == n:\n",
    "                print('Found it!')\n",
    "\n",
    "nested = [1,2,3,[1,2,3,[1,2,3,[1,2,3,[[42]]]]]]\n",
    "\n",
    "rec_search(nested,42)\n"
   ]
  },
  {
   "cell_type": "markdown",
   "metadata": {},
   "source": [
    "Recursive functions are notoriously shorter and more elegant than their iterative counterparts, although loops usually have the edge when it comes to performance. Iteration saves time for the computer; recursion saves time for the programmer. You can choose either of them depending on the priorities of your project. "
   ]
  },
  {
   "cell_type": "markdown",
   "metadata": {},
   "source": [
    "## BONUS:\n",
    "\n",
    "Try the Baby Shark challenge. See if you can do it in less than 300 characters. https://www.codewars.com/kata/baby-shark-lyrics-generator/train/python\n",
    "\n",
    "Once we're done with that, let's look at a couple examples where we can use recursion.\n",
    "https://www.codewars.com/kata/russian-nesting-dolls/train/python\n",
    "\n",
    "https://www.codewars.com/kata/array-deep-count/train/python"
   ]
  },
  {
   "cell_type": "code",
   "execution_count": null,
   "metadata": {},
   "outputs": [],
   "source": []
  }
 ],
 "metadata": {
  "kernelspec": {
   "display_name": "Python 3",
   "language": "python",
   "name": "python3"
  },
  "language_info": {
   "codemirror_mode": {
    "name": "ipython",
    "version": 3
   },
   "file_extension": ".py",
   "mimetype": "text/x-python",
   "name": "python",
   "nbconvert_exporter": "python",
   "pygments_lexer": "ipython3",
   "version": "3.7.3"
  }
 },
 "nbformat": 4,
 "nbformat_minor": 2
}
