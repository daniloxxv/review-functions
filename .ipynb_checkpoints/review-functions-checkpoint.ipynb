{
 "cells": [
  {
   "cell_type": "markdown",
   "metadata": {},
   "source": [
    "# Functions\n",
    "\n",
    "In this session we'll do a quick recap of how functions work in Python. We'll also take a deeper dive into recursion, which can serve as an alternative to iteration when we want the same block of code to be executed multiple times.\n",
    "\n",
    "## What is a function anyway?\n",
    "\n",
    "A function, in essence, is a block of code which is only executed when it is called. Using functions for tasks that will be repeated more than once in our application can allow us to write cleaner, shorter code."
   ]
  },
  {
   "cell_type": "code",
   "execution_count": 8,
   "metadata": {},
   "outputs": [
    {
     "name": "stdout",
     "output_type": "stream",
     "text": [
      "Es hora de tomar café, amiguitos. Ahorita regresamos\n"
     ]
    }
   ],
   "source": [
    "def break_time():\n",
    "    print('Es hora de tomar café, amiguitos. Ahorita regresamos')\n",
    "    \n",
    "break_time()"
   ]
  },
  {
   "cell_type": "markdown",
   "metadata": {},
   "source": [
    "We can call a function as many times as we want now instead of having to write the print statement every time we want to use it. A function call can be placed inside a `for` loop, for example."
   ]
  },
  {
   "cell_type": "code",
   "execution_count": 9,
   "metadata": {
    "scrolled": true
   },
   "outputs": [
    {
     "name": "stdout",
     "output_type": "stream",
     "text": [
      "Es hora de tomar café, amiguitos. Ahorita regresamos\n",
      "Es hora de tomar café, amiguitos. Ahorita regresamos\n",
      "Es hora de tomar café, amiguitos. Ahorita regresamos\n",
      "Es hora de tomar café, amiguitos. Ahorita regresamos\n",
      "Es hora de tomar café, amiguitos. Ahorita regresamos\n"
     ]
    }
   ],
   "source": [
    "for i in range(5):\n",
    "    break_time()"
   ]
  },
  {
   "cell_type": "markdown",
   "metadata": {},
   "source": [
    "## The `return` keyword\n",
    "\n",
    "A function may or may not contain the `return` keyword. When it is used, the function call will receive a value which can be passed on to other functions or used in another block of code. Let's look at a couple of examples to make things clearer:"
   ]
  },
  {
   "cell_type": "code",
   "execution_count": 26,
   "metadata": {},
   "outputs": [
    {
     "name": "stdout",
     "output_type": "stream",
     "text": [
      "4\n",
      "8\n"
     ]
    }
   ],
   "source": [
    "def double(num):\n",
    "    return num * 2\n",
    "\n",
    "a = double(2)\n",
    "\n",
    "print(a)\n",
    "\n",
    "b = double(a)\n",
    "\n",
    "print(b)"
   ]
  },
  {
   "cell_type": "markdown",
   "metadata": {},
   "source": [
    "If a function does not contain the `return` keyword, its return value is `None` by default."
   ]
  },
  {
   "cell_type": "code",
   "execution_count": 28,
   "metadata": {},
   "outputs": [
    {
     "name": "stdout",
     "output_type": "stream",
     "text": [
      "Es hora de tomar café, amiguitos. Ahorita regresamos\n",
      "None\n"
     ]
    }
   ],
   "source": [
    "a = break_time()\n",
    "print(a)"
   ]
  },
  {
   "cell_type": "markdown",
   "metadata": {},
   "source": [
    "## Positional arguments"
   ]
  },
  {
   "cell_type": "markdown",
   "metadata": {},
   "source": [
    "A function can receive any number of arguments, which can be used inside the block of code just like any other variable. The value of the argument depends on the parameter which is passed when the function is called. "
   ]
  },
  {
   "cell_type": "code",
   "execution_count": 15,
   "metadata": {},
   "outputs": [
    {
     "name": "stdout",
     "output_type": "stream",
     "text": [
      "My name is Danilo and I am from Brazil.\n",
      "My name is Rodolfo and I am from Argentina.\n",
      "My name is Luis and I am from Colombia.\n"
     ]
    }
   ],
   "source": [
    "def greeting(name,country):\n",
    "    print(f'My name is {name} and I am from {country}.')\n",
    "\n",
    "greeting('Danilo','Brazil')\n",
    "greeting('Rodolfo','Argentina')\n",
    "greeting('Luis','Colombia')\n"
   ]
  },
  {
   "cell_type": "markdown",
   "metadata": {},
   "source": [
    "A you can see, the `name` and `country` arguments had different values every time the function was called. These are called positional arguments because the order of the arguments matters, as you can see in the example below."
   ]
  },
  {
   "cell_type": "code",
   "execution_count": 16,
   "metadata": {},
   "outputs": [
    {
     "name": "stdout",
     "output_type": "stream",
     "text": [
      "My name is Brazil and I am from Danilo.\n"
     ]
    }
   ],
   "source": [
    "greeting('Brazil','Danilo')\n"
   ]
  },
  {
   "cell_type": "markdown",
   "metadata": {},
   "source": [
    "Passing different parameters to our functions will allow our code to be a lot shorter and more efficient, following the famous DRY principle: Don't Repeat Yourself.\n",
    "\n",
    "The following function, for example, will print the entire lyrics of the `Baby Shark` song. Can you notice how parameters were used to avoid repeating code?"
   ]
  },
  {
   "cell_type": "code",
   "execution_count": 24,
   "metadata": {},
   "outputs": [
    {
     "name": "stdout",
     "output_type": "stream",
     "text": [
      "Baby shark, doo doo doo doo doo doo\n",
      "Baby shark, doo doo doo doo doo doo\n",
      "Baby shark, doo doo doo doo doo doo\n",
      "Baby shark!\n",
      "\n",
      "Mommy shark, doo doo doo doo doo doo\n",
      "Mommy shark, doo doo doo doo doo doo\n",
      "Mommy shark, doo doo doo doo doo doo\n",
      "Mommy shark!\n",
      "\n",
      "Daddy shark, doo doo doo doo doo doo\n",
      "Daddy shark, doo doo doo doo doo doo\n",
      "Daddy shark, doo doo doo doo doo doo\n",
      "Daddy shark!\n",
      "\n",
      "Grandma shark, doo doo doo doo doo doo\n",
      "Grandma shark, doo doo doo doo doo doo\n",
      "Grandma shark, doo doo doo doo doo doo\n",
      "Grandma shark!\n",
      "\n",
      "Grandpa shark, doo doo doo doo doo doo\n",
      "Grandpa shark, doo doo doo doo doo doo\n",
      "Grandpa shark, doo doo doo doo doo doo\n",
      "Grandpa shark!\n",
      "\n",
      "Let's go hunt, doo doo doo doo doo doo\n",
      "Let's go hunt, doo doo doo doo doo doo\n",
      "Let's go hunt, doo doo doo doo doo doo\n",
      "Let's go hunt!\n",
      "\n"
     ]
    }
   ],
   "source": [
    "l = ['Baby shark','Mommy shark','Daddy shark','Grandma shark','Grandpa shark', 'Let\\'s go hunt']\n",
    "\n",
    "def bs(shark):\n",
    "    print(f'{shark},{\" doo\"*6}\\n'*3 + f'{shark}!\\n')\n",
    "          \n",
    "for shark in l:\n",
    "    bs(shark)\n"
   ]
  },
  {
   "cell_type": "markdown",
   "metadata": {},
   "source": [
    "If you call a function with more or less positional arguments than it requires, Python will throw an error. Let's use our `greeting` function as an example."
   ]
  },
  {
   "cell_type": "code",
   "execution_count": 17,
   "metadata": {
    "scrolled": true
   },
   "outputs": [
    {
     "ename": "TypeError",
     "evalue": "greeting() missing 1 required positional argument: 'country'",
     "output_type": "error",
     "traceback": [
      "\u001b[0;31m---------------------------------------------------------------------------\u001b[0m",
      "\u001b[0;31mTypeError\u001b[0m                                 Traceback (most recent call last)",
      "\u001b[0;32m<ipython-input-17-58e4417e59ad>\u001b[0m in \u001b[0;36m<module>\u001b[0;34m\u001b[0m\n\u001b[0;32m----> 1\u001b[0;31m \u001b[0mgreeting\u001b[0m\u001b[0;34m(\u001b[0m\u001b[0;34m'Danilo'\u001b[0m\u001b[0;34m)\u001b[0m\u001b[0;34m\u001b[0m\u001b[0;34m\u001b[0m\u001b[0m\n\u001b[0m",
      "\u001b[0;31mTypeError\u001b[0m: greeting() missing 1 required positional argument: 'country'"
     ]
    }
   ],
   "source": [
    "greeting('Danilo')"
   ]
  },
  {
   "cell_type": "code",
   "execution_count": 18,
   "metadata": {
    "scrolled": true
   },
   "outputs": [
    {
     "ename": "TypeError",
     "evalue": "greeting() takes 2 positional arguments but 3 were given",
     "output_type": "error",
     "traceback": [
      "\u001b[0;31m---------------------------------------------------------------------------\u001b[0m",
      "\u001b[0;31mTypeError\u001b[0m                                 Traceback (most recent call last)",
      "\u001b[0;32m<ipython-input-18-23d3f2d792b4>\u001b[0m in \u001b[0;36m<module>\u001b[0;34m\u001b[0m\n\u001b[0;32m----> 1\u001b[0;31m \u001b[0mgreeting\u001b[0m\u001b[0;34m(\u001b[0m\u001b[0;34m'Danilo'\u001b[0m\u001b[0;34m,\u001b[0m\u001b[0;34m'Brazil'\u001b[0m\u001b[0;34m,\u001b[0m\u001b[0;34m'México'\u001b[0m\u001b[0;34m)\u001b[0m\u001b[0;34m\u001b[0m\u001b[0;34m\u001b[0m\u001b[0m\n\u001b[0m",
      "\u001b[0;31mTypeError\u001b[0m: greeting() takes 2 positional arguments but 3 were given"
     ]
    }
   ],
   "source": [
    "greeting('Danilo','Brazil','México')"
   ]
  },
  {
   "cell_type": "markdown",
   "metadata": {},
   "source": [
    "One way of making our functions more versatile is by using the `*` **when defining our function**. This will allow it to take any number of positional arguments."
   ]
  },
  {
   "cell_type": "code",
   "execution_count": 30,
   "metadata": {},
   "outputs": [
    {
     "data": {
      "text/plain": [
       "6"
      ]
     },
     "execution_count": 30,
     "metadata": {},
     "output_type": "execute_result"
    }
   ],
   "source": [
    "def multiply(*args):\n",
    "    res = 1\n",
    "    for el in args:\n",
    "        res *= el\n",
    "    return res"
   ]
  },
  {
   "cell_type": "markdown",
   "metadata": {},
   "source": [
    "If you print the content of `args`, you'll find a tuple with all the arguments passed to the function."
   ]
  },
  {
   "cell_type": "code",
   "execution_count": 34,
   "metadata": {},
   "outputs": [
    {
     "name": "stdout",
     "output_type": "stream",
     "text": [
      "(1, 2, 3, 4, 5, 6, 7, 8, 9, 10)\n"
     ]
    }
   ],
   "source": [
    "def print_args(*args):\n",
    "    print(args)\n",
    "\n",
    "print_args(1,2,3,4,5,6,7,8,9,10)"
   ]
  },
  {
   "cell_type": "markdown",
   "metadata": {},
   "source": [
    "On a side note, if we use the `*` operator **when calling a function**, it will unpack an iterable and pass its elements as arguments to the function."
   ]
  },
  {
   "cell_type": "code",
   "execution_count": 35,
   "metadata": {},
   "outputs": [
    {
     "name": "stdout",
     "output_type": "stream",
     "text": [
      "My name is Danilo and I am from Brazil.\n"
     ]
    }
   ],
   "source": [
    "l = ['Danilo','Brazil']\n",
    "greeting(*l)"
   ]
  },
  {
   "cell_type": "markdown",
   "metadata": {},
   "source": [
    "Let's see another example with our `multiply` function:"
   ]
  },
  {
   "cell_type": "code",
   "execution_count": 37,
   "metadata": {
    "scrolled": true
   },
   "outputs": [
    {
     "data": {
      "text/plain": [
       "120"
      ]
     },
     "execution_count": 37,
     "metadata": {},
     "output_type": "execute_result"
    }
   ],
   "source": [
    "nums = [1,2,3,4,5]\n",
    "multiply(*nums)"
   ]
  },
  {
   "cell_type": "markdown",
   "metadata": {},
   "source": [
    "## Keyword arguments\n",
    "\n",
    "Another way to pass parameters to our function is by using keyword arguments. Let's get back to our `greeting` example. We know that `greeting('Brazil','Danilo')` won't work, but we can achieve the result we want by calling the function like this: "
   ]
  },
  {
   "cell_type": "code",
   "execution_count": 31,
   "metadata": {},
   "outputs": [
    {
     "name": "stdout",
     "output_type": "stream",
     "text": [
      "My name is Danilo and I am from Brazil.\n"
     ]
    }
   ],
   "source": [
    "greeting(country='Brazil',name='Danilo')"
   ]
  },
  {
   "cell_type": "markdown",
   "metadata": {},
   "source": [
    "Positional arguments should always come before keyword arguments when calling a function; otherwise, Python will get angry. This is not allowed:"
   ]
  },
  {
   "cell_type": "code",
   "execution_count": 32,
   "metadata": {
    "scrolled": true
   },
   "outputs": [
    {
     "ename": "SyntaxError",
     "evalue": "positional argument follows keyword argument (<ipython-input-32-71176f92851c>, line 1)",
     "output_type": "error",
     "traceback": [
      "\u001b[0;36m  File \u001b[0;32m\"<ipython-input-32-71176f92851c>\"\u001b[0;36m, line \u001b[0;32m1\u001b[0m\n\u001b[0;31m    greeting(name='Danilo','Brazil')\u001b[0m\n\u001b[0m                          ^\u001b[0m\n\u001b[0;31mSyntaxError\u001b[0m\u001b[0;31m:\u001b[0m positional argument follows keyword argument\n"
     ]
    }
   ],
   "source": [
    "greeting(name='Danilo','Brazil')"
   ]
  },
  {
   "cell_type": "markdown",
   "metadata": {},
   "source": [
    "This, however, is fine:"
   ]
  },
  {
   "cell_type": "code",
   "execution_count": 33,
   "metadata": {},
   "outputs": [
    {
     "name": "stdout",
     "output_type": "stream",
     "text": [
      "My name is Danilo and I am from Brazil.\n"
     ]
    }
   ],
   "source": [
    "greeting('Danilo',country='Brazil')"
   ]
  },
  {
   "cell_type": "markdown",
   "metadata": {},
   "source": [
    "You can allow your function to accept multiple keyword arguments by using the `**` operator **when defining the function.**"
   ]
  },
  {
   "cell_type": "code",
   "execution_count": 38,
   "metadata": {},
   "outputs": [
    {
     "name": "stdout",
     "output_type": "stream",
     "text": [
      "Danilo is the TA\n",
      "Miguel is the student\n",
      "Anahí is the manager\n"
     ]
    }
   ],
   "source": [
    "def classroom_status(**kwargs):\n",
    "    for el in kwargs:\n",
    "        print(f'{kwargs[el]} is the {el}')\n",
    "\n",
    "classroom_status(TA='Danilo',student='Luis',manager='Anahí')"
   ]
  },
  {
   "cell_type": "markdown",
   "metadata": {},
   "source": [
    "As you might have guessed by the syntax, the `**` operator creates a dictionary with all keyword arguments."
   ]
  },
  {
   "cell_type": "code",
   "execution_count": 39,
   "metadata": {},
   "outputs": [
    {
     "name": "stdout",
     "output_type": "stream",
     "text": [
      "{'TA': 'Danilo', 'student': 'Luis', 'manager': 'Anahí'}\n"
     ]
    }
   ],
   "source": [
    "def print_kwargs(**kwargs):\n",
    "    print(kwargs)\n",
    "    \n",
    "print_kwargs(TA='Danilo',student='Luis',manager='Anahí')"
   ]
  },
  {
   "cell_type": "markdown",
   "metadata": {},
   "source": [
    "And, as some of you probably guessed too, if you use the `**` operator **when calling a function**, you can unpack all values of a dictionary and pass them into the function as keyword arguments."
   ]
  },
  {
   "cell_type": "code",
   "execution_count": 40,
   "metadata": {},
   "outputs": [
    {
     "name": "stdout",
     "output_type": "stream",
     "text": [
      "My name is Danilo and I am from Brazil.\n"
     ]
    }
   ],
   "source": [
    "info = {'country': 'Brazil','name':'Danilo'}\n",
    "greeting(**info)"
   ]
  },
  {
   "cell_type": "markdown",
   "metadata": {},
   "source": [
    "## Default arguments"
   ]
  },
  {
   "cell_type": "code",
   "execution_count": 42,
   "metadata": {},
   "outputs": [
    {
     "name": "stdout",
     "output_type": "stream",
     "text": [
      "Found it!\n"
     ]
    }
   ],
   "source": [
    "def rec_search(l,n):\n",
    "    for el in l:\n",
    "        if isinstance(el,list):\n",
    "            rec_search(el,n)\n",
    "        else:\n",
    "            if el == n:\n",
    "                print('Found it!')\n",
    "    pass\n",
    "\n",
    "nested = [1,2,3,[1,2,3,[1,2,3,[1,2,3,[[42]]]]]]\n",
    "\n",
    "rec_search(nested,42)\n"
   ]
  },
  {
   "cell_type": "markdown",
   "metadata": {},
   "source": [
    "## BONUS:\n",
    "\n",
    "Try the Baby Shark challenge. See if you can do it in less than 300 characters. https://www.codewars.com/kata/baby-shark-lyrics-generator/train/python\n"
   ]
  }
 ],
 "metadata": {
  "kernelspec": {
   "display_name": "Python 3",
   "language": "python",
   "name": "python3"
  },
  "language_info": {
   "codemirror_mode": {
    "name": "ipython",
    "version": 3
   },
   "file_extension": ".py",
   "mimetype": "text/x-python",
   "name": "python",
   "nbconvert_exporter": "python",
   "pygments_lexer": "ipython3",
   "version": "3.7.3"
  }
 },
 "nbformat": 4,
 "nbformat_minor": 2
}
